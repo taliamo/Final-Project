{
 "cells": [
  {
   "cell_type": "code",
   "execution_count": 4,
   "metadata": {
    "collapsed": true
   },
   "outputs": [],
   "source": [
    "## import libraries\n",
    "import pandas as pd\n",
    "import numpy as np\n",
    "import matplotlib.pyplot as plt\n",
    "\n",
    "#stats libraries\n",
    "import statsmodels.api as sm\n",
    "import scipy\n",
    "\n",
    "#allows us to show plots in notebook\n",
    "%matplotlib inline\n",
    " "
   ]
  },
  {
   "cell_type": "code",
   "execution_count": 5,
   "metadata": {
    "collapsed": true
   },
   "outputs": [],
   "source": [
    "#figure out what kind of delimiter we have with my current data set.\n",
    "\n",
    "def detectDelimiter(csvFile):\n",
    "    with open(csvFile, 'r') as myCsvfile:\n",
    "        header=myCsvfile.readline()\n",
    "        if header.find(\";\")!=-1:\n",
    "            return \";\"\n",
    "        if header.find(\",\")!=-1:\n",
    "            return \",\"\n",
    "        if header.find(\"\\s+\"):\n",
    "            return \"\\s+\"\n",
    "        if header.find(''):\n",
    "            return \"\"\n",
    "    #default delimiter (MS Office export)\n",
    "    return \"Other\""
   ]
  },
  {
   "cell_type": "code",
   "execution_count": 6,
   "metadata": {
    "collapsed": false
   },
   "outputs": [
    {
     "data": {
      "text/plain": [
       "'\\\\s+'"
      ]
     },
     "execution_count": 6,
     "metadata": {},
     "output_type": "execute_result"
    }
   ],
   "source": [
    "detectDelimiter('data/Earthquake_Datasets/EQCan2014-2015.txt')"
   ]
  },
  {
   "cell_type": "markdown",
   "metadata": {},
   "source": [
    "__Talia:__ Stating what your new dataframe is would be helpful. What does earthquake 14 to 15 mean? Two earthquake events? earthquakes in 2014 and 2015? Giving an idea of time frame may help, since (I assume) your data comparison of variables depends on time alignment."
   ]
  },
  {
   "cell_type": "code",
   "execution_count": 7,
   "metadata": {
    "collapsed": false
   },
   "outputs": [
    {
     "name": "stderr",
     "output_type": "stream",
     "text": [
      "/Users/shubbymartz-oberlander/anaconda/lib/python3.4/site-packages/IPython/kernel/__main__.py:3: ParserWarning: Falling back to the 'python' engine because the 'c' engine does not support regex separators; you can avoid this warning by specifying engine='python'.\n",
      "  app.launch_new_instance()\n"
     ]
    },
    {
     "data": {
      "text/html": [
       "<div>\n",
       "<table border=\"1\" class=\"dataframe\">\n",
       "  <thead>\n",
       "    <tr style=\"text-align: right;\">\n",
       "      <th></th>\n",
       "      <th></th>\n",
       "      <th></th>\n",
       "      <th></th>\n",
       "      <th></th>\n",
       "      <th></th>\n",
       "      <th>Earthquakes Canada Online Bulletin - 20141111.2234 20151111.2234</th>\n",
       "    </tr>\n",
       "    <tr>\n",
       "      <th>Date</th>\n",
       "      <th>Time(UT)</th>\n",
       "      <th>Lat</th>\n",
       "      <th>Long  Depth</th>\n",
       "      <th>Mag</th>\n",
       "      <th>Agncy Region and Comment</th>\n",
       "      <th></th>\n",
       "    </tr>\n",
       "  </thead>\n",
       "  <tbody>\n",
       "    <tr>\n",
       "      <th>-----------</th>\n",
       "      <th>----</th>\n",
       "      <th>--------</th>\n",
       "      <th>---</th>\n",
       "      <th>----  -----</th>\n",
       "      <th>---</th>\n",
       "      <td>----- ------------------</td>\n",
       "    </tr>\n",
       "    <tr>\n",
       "      <th>2014/11/22  02:50:31 57.240 -122.544</th>\n",
       "      <th>6.0*  2.6ML 151 km WNW of Fort St. John</th>\n",
       "      <th>NaN</th>\n",
       "      <th>NaN</th>\n",
       "      <th>NaN</th>\n",
       "      <th>NaN</th>\n",
       "      <td>None</td>\n",
       "    </tr>\n",
       "    <tr>\n",
       "      <th>2014/11/22  21:52:04 56.281 -121.909</th>\n",
       "      <th>5.0g  0.0</th>\n",
       "      <th>65 km W</th>\n",
       "      <th>of Fort St. John</th>\n",
       "      <th>NaN</th>\n",
       "      <th>NaN</th>\n",
       "      <td>None</td>\n",
       "    </tr>\n",
       "    <tr>\n",
       "      <th>2014/11/23  01:34:03 56.331 -121.873  10.0g  2.8ML 63 km W</th>\n",
       "      <th>of Fort St. John</th>\n",
       "      <th>NaN</th>\n",
       "      <th>NaN</th>\n",
       "      <th>NaN</th>\n",
       "      <th>NaN</th>\n",
       "      <td>None</td>\n",
       "    </tr>\n",
       "    <tr>\n",
       "      <th>2014/11/24  10:02:46 56.568 -122.376  10.0g  2.9ML 100 km WNW of Fort St. John</th>\n",
       "      <th>NaN</th>\n",
       "      <th>NaN</th>\n",
       "      <th>NaN</th>\n",
       "      <th>NaN</th>\n",
       "      <th>NaN</th>\n",
       "      <td>None</td>\n",
       "    </tr>\n",
       "    <tr>\n",
       "      <th>2014/11/24  21:30:18 57.287 -122.778</th>\n",
       "      <th>5.0g  1.9ML 164 km WNW of Fort St. John</th>\n",
       "      <th>NaN</th>\n",
       "      <th>NaN</th>\n",
       "      <th>NaN</th>\n",
       "      <th>NaN</th>\n",
       "      <td>None</td>\n",
       "    </tr>\n",
       "    <tr>\n",
       "      <th>2014/11/25  02:21:19 56.554 -122.444  10.0g  2.3ML 103 km W</th>\n",
       "      <th>of Fort St. John</th>\n",
       "      <th>NaN</th>\n",
       "      <th>NaN</th>\n",
       "      <th>NaN</th>\n",
       "      <th>NaN</th>\n",
       "      <td>None</td>\n",
       "    </tr>\n",
       "    <tr>\n",
       "      <th>2014/11/26  17:19:24 57.282 -122.753</th>\n",
       "      <th>5.0g  1.9ML 163 km WNW of Fort St. John</th>\n",
       "      <th>NaN</th>\n",
       "      <th>NaN</th>\n",
       "      <th>NaN</th>\n",
       "      <th>NaN</th>\n",
       "      <td>None</td>\n",
       "    </tr>\n",
       "    <tr>\n",
       "      <th>2014/11/28  00:19:16 57.592 -125.820</th>\n",
       "      <th>5.0g  2.3ML 227 km WSW of Fort Nelson</th>\n",
       "      <th>NaN</th>\n",
       "      <th>NaN</th>\n",
       "      <th>NaN</th>\n",
       "      <th>NaN</th>\n",
       "      <td>None</td>\n",
       "    </tr>\n",
       "    <tr>\n",
       "      <th>2014/12/01  08:22:37 56.721 -121.321  10.0g  1.8ML 59 km NW  of Fort St. John</th>\n",
       "      <th>NaN</th>\n",
       "      <th>NaN</th>\n",
       "      <th>NaN</th>\n",
       "      <th>NaN</th>\n",
       "      <th>NaN</th>\n",
       "      <td>None</td>\n",
       "    </tr>\n",
       "  </tbody>\n",
       "</table>\n",
       "</div>"
      ],
      "text/plain": [
       "                                                                                                                                                             Earthquakes Canada Online Bulletin - 20141111.2234 20151111.2234\n",
       "Date                                                Time(UT)                                Lat        Long  Depth    Mag           Agncy Region and Comment                                                                 \n",
       "-----------                                          ----                                   --------  ---               ----  ----- ---                                                ----- ------------------              \n",
       "2014/11/22  02:50:31 57.240 -122.544               6.0*  2.6ML 151 km WNW of Fort St. John NaN       NaN              NaN           NaN                                                                    None              \n",
       "2014/11/22  21:52:04 56.281 -121.909               5.0g  0.0                               65 km W   of Fort St. John NaN           NaN                                                                    None              \n",
       "2014/11/23  01:34:03 56.331 -121.873  10.0g  2.... of Fort St. John                        NaN       NaN              NaN           NaN                                                                    None              \n",
       "2014/11/24  10:02:46 56.568 -122.376  10.0g  2.... NaN                                     NaN       NaN              NaN           NaN                                                                    None              \n",
       "2014/11/24  21:30:18 57.287 -122.778               5.0g  1.9ML 164 km WNW of Fort St. John NaN       NaN              NaN           NaN                                                                    None              \n",
       "2014/11/25  02:21:19 56.554 -122.444  10.0g  2.... of Fort St. John                        NaN       NaN              NaN           NaN                                                                    None              \n",
       "2014/11/26  17:19:24 57.282 -122.753               5.0g  1.9ML 163 km WNW of Fort St. John NaN       NaN              NaN           NaN                                                                    None              \n",
       "2014/11/28  00:19:16 57.592 -125.820               5.0g  2.3ML 227 km WSW of Fort Nelson   NaN       NaN              NaN           NaN                                                                    None              \n",
       "2014/12/01  08:22:37 56.721 -121.321  10.0g  1.... NaN                                     NaN       NaN              NaN           NaN                                                                    None              "
      ]
     },
     "execution_count": 7,
     "metadata": {},
     "output_type": "execute_result"
    }
   ],
   "source": [
    "filename = 'data/Earthquake_Datasets/EQCan2014-2015.txt' #created a variable that it would be easy to call\n",
    "\n",
    "earthquakes_14_to_15 = pd.read_csv(filename, sep = '   ')\n",
    "#made dataframe into variable sheef, deleted unnecessary header, changed the index\n",
    "earthquakes_14_to_15.head(10)"
   ]
  },
  {
   "cell_type": "code",
   "execution_count": 8,
   "metadata": {
    "collapsed": false
   },
   "outputs": [],
   "source": [
    "#munge the data. I might have  I know there are some NaN values, and I know there are some (useless to me) string values that \n",
    "#describe location and comments."
   ]
  },
  {
   "cell_type": "markdown",
   "metadata": {},
   "source": [
    "__Talia:__ I'm a bit confused by \"sheef\" below. From which dataframe are you looking to plot data? "
   ]
  },
  {
   "cell_type": "code",
   "execution_count": 22,
   "metadata": {
    "collapsed": false
   },
   "outputs": [
    {
     "data": {
      "text/plain": [
       "<matplotlib.text.Text at 0x1098c44e0>"
      ]
     },
     "execution_count": 22,
     "metadata": {},
     "output_type": "execute_result"
    },
    {
     "data": {
      "image/png": "[encoded data removed]",
      "text/plain": [
       "<matplotlib.figure.Figure at 0x109899fd0>"
      ]
     },
     "metadata": {},
     "output_type": "display_data"
    }
   ],
   "source": [
    "#create plots of mag and depth\n",
    "\n",
    "#create plot of magnitude over time\n",
    "#make bigger figure\n",
    "plt.figure(figsize=(10,8))\n",
    "\n",
    "#plot the magnitude of earthquakes over time\n",
    "#sheef['MW'].plot(cmap=plt.cm.autumn)\n",
    "plt.plot(cmap=plt.cm.autumn)\n",
    "\n",
    "#TALIA: I tried another way to bypass the error message I got on \"sheef\", \n",
    "#but then could not find a way to actually plot the data on the empty figure I made\n",
    "\n",
    "#add labels\n",
    "plt.ylabel ('Magnitude')\n",
    "plt.title ('Magnitude of Earthquakes this year')\n",
    "\n",
    "#create bubble plot of latitude vs longitude"
   ]
  },
  {
   "cell_type": "code",
   "execution_count": 12,
   "metadata": {
    "collapsed": true
   },
   "outputs": [],
   "source": [
    "#do some statistics thing "
   ]
  },
  {
   "cell_type": "code",
   "execution_count": null,
   "metadata": {
    "collapsed": true
   },
   "outputs": [],
   "source": []
  },
  {
   "cell_type": "code",
   "execution_count": null,
   "metadata": {
    "collapsed": true
   },
   "outputs": [],
   "source": []
  },
  {
   "cell_type": "code",
   "execution_count": null,
   "metadata": {
    "collapsed": true
   },
   "outputs": [],
   "source": []
  }
 ],
 "metadata": {
  "kernelspec": {
   "display_name": "Python 3",
   "language": "python",
   "name": "python3"
  },
  "language_info": {
   "codemirror_mode": {
    "name": "ipython",
    "version": 3
   },
   "file_extension": ".py",
   "mimetype": "text/x-python",
   "name": "python",
   "nbconvert_exporter": "python",
   "pygments_lexer": "ipython3",
   "version": "3.4.3"
  }
 },
 "nbformat": 4,
 "nbformat_minor": 0
}
